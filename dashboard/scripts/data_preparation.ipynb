{
 "cells": [
  {
   "cell_type": "code",
   "execution_count": 2,
   "id": "c1a62e1e",
   "metadata": {},
   "outputs": [],
   "source": [
    "import pandas as pd\n",
    "import matplotlib\n",
    "import matplotlib.pyplot as plt\n",
    "import seaborn as sns"
   ]
  },
  {
   "cell_type": "code",
   "execution_count": 3,
   "id": "feabeeea",
   "metadata": {},
   "outputs": [],
   "source": [
    "df = pd.read_csv(\"../data/hotel_bookings.csv\")"
   ]
  },
  {
   "cell_type": "code",
   "execution_count": 4,
   "id": "a5a03c1b",
   "metadata": {},
   "outputs": [],
   "source": [
    "df[\"demand\"] = df[\"adults\"] + df[\"children\"] + df[\"babies\"]\n",
    "df['arrival_date'] = df['arrival_date_month'] + \" \" + df['arrival_date_day_of_month'].astype(str) + \" \" + df['arrival_date_year'].astype(str)\n",
    "df['arrival_date'] = pd.to_datetime(df['arrival_date'])"
   ]
  },
  {
   "cell_type": "code",
   "execution_count": 6,
   "id": "04bd97a8",
   "metadata": {},
   "outputs": [
    {
     "name": "stderr",
     "output_type": "stream",
     "text": [
      "<ipython-input-6-1f04d89c78dd>:12: SettingWithCopyWarning: \n",
      "A value is trying to be set on a copy of a slice from a DataFrame.\n",
      "Try using .loc[row_indexer,col_indexer] = value instead\n",
      "\n",
      "See the caveats in the documentation: https://pandas.pydata.org/pandas-docs/stable/user_guide/indexing.html#returning-a-view-versus-a-copy\n",
      "  dm_city['arrival_date_month'] = pd.Categorical(dm_city['arrival_date_month'], ordered=True, categories=order)\n",
      "<ipython-input-6-1f04d89c78dd>:16: SettingWithCopyWarning: \n",
      "A value is trying to be set on a copy of a slice from a DataFrame.\n",
      "Try using .loc[row_indexer,col_indexer] = value instead\n",
      "\n",
      "See the caveats in the documentation: https://pandas.pydata.org/pandas-docs/stable/user_guide/indexing.html#returning-a-view-versus-a-copy\n",
      "  dm_resort['arrival_date_month'] = pd.Categorical(dm_resort['arrival_date_month'], ordered=True, categories=order)\n"
     ]
    }
   ],
   "source": [
    "# demand per month grouped by hotel type\n",
    "\n",
    "dm = pd.DataFrame(df.groupby(['hotel','arrival_date_month'])['demand'].count())\n",
    "dm = dm.reset_index()\n",
    "\n",
    "dm_city = dm[dm['hotel']=='City Hotel']\n",
    "dm_resort = dm[dm['hotel']=='Resort Hotel']\n",
    "\n",
    "# sort dataframe given a list of monthly order\n",
    "order = ['January', 'February', 'March', 'April', 'May', 'June', 'July', 'August', 'September', 'October', 'November', 'December']\n",
    "\n",
    "dm_city['arrival_date_month'] = pd.Categorical(dm_city['arrival_date_month'], ordered=True, categories=order) \n",
    "\n",
    "dm_city = dm_city.sort_values('arrival_date_month')\n",
    "\n",
    "dm_resort['arrival_date_month'] = pd.Categorical(dm_resort['arrival_date_month'], ordered=True, categories=order) \n",
    "\n",
    "dm_resort = dm_resort.sort_values('arrival_date_month')\n"
   ]
  },
  {
   "cell_type": "code",
   "execution_count": 10,
   "id": "66560c3d",
   "metadata": {},
   "outputs": [],
   "source": [
    "dm_resort.to_csv(\"../data/demand_month_resort.csv\")"
   ]
  },
  {
   "cell_type": "code",
   "execution_count": 8,
   "id": "303bba56",
   "metadata": {},
   "outputs": [],
   "source": [
    "dm_city.to_csv(\"../data/demand_month_city.csv\")"
   ]
  },
  {
   "cell_type": "code",
   "execution_count": 11,
   "id": "ae159419",
   "metadata": {},
   "outputs": [
    {
     "data": {
      "text/html": [
       "<div>\n",
       "<style scoped>\n",
       "    .dataframe tbody tr th:only-of-type {\n",
       "        vertical-align: middle;\n",
       "    }\n",
       "\n",
       "    .dataframe tbody tr th {\n",
       "        vertical-align: top;\n",
       "    }\n",
       "\n",
       "    .dataframe thead th {\n",
       "        text-align: right;\n",
       "    }\n",
       "</style>\n",
       "<table border=\"1\" class=\"dataframe\">\n",
       "  <thead>\n",
       "    <tr style=\"text-align: right;\">\n",
       "      <th></th>\n",
       "      <th>hotel</th>\n",
       "      <th>arrival_date_month</th>\n",
       "      <th>demand</th>\n",
       "    </tr>\n",
       "  </thead>\n",
       "  <tbody>\n",
       "    <tr>\n",
       "      <th>16</th>\n",
       "      <td>Resort Hotel</td>\n",
       "      <td>January</td>\n",
       "      <td>2193</td>\n",
       "    </tr>\n",
       "    <tr>\n",
       "      <th>15</th>\n",
       "      <td>Resort Hotel</td>\n",
       "      <td>February</td>\n",
       "      <td>3103</td>\n",
       "    </tr>\n",
       "    <tr>\n",
       "      <th>19</th>\n",
       "      <td>Resort Hotel</td>\n",
       "      <td>March</td>\n",
       "      <td>3336</td>\n",
       "    </tr>\n",
       "    <tr>\n",
       "      <th>12</th>\n",
       "      <td>Resort Hotel</td>\n",
       "      <td>April</td>\n",
       "      <td>3609</td>\n",
       "    </tr>\n",
       "    <tr>\n",
       "      <th>20</th>\n",
       "      <td>Resort Hotel</td>\n",
       "      <td>May</td>\n",
       "      <td>3559</td>\n",
       "    </tr>\n",
       "    <tr>\n",
       "      <th>18</th>\n",
       "      <td>Resort Hotel</td>\n",
       "      <td>June</td>\n",
       "      <td>3045</td>\n",
       "    </tr>\n",
       "    <tr>\n",
       "      <th>17</th>\n",
       "      <td>Resort Hotel</td>\n",
       "      <td>July</td>\n",
       "      <td>4573</td>\n",
       "    </tr>\n",
       "    <tr>\n",
       "      <th>13</th>\n",
       "      <td>Resort Hotel</td>\n",
       "      <td>August</td>\n",
       "      <td>4894</td>\n",
       "    </tr>\n",
       "    <tr>\n",
       "      <th>23</th>\n",
       "      <td>Resort Hotel</td>\n",
       "      <td>September</td>\n",
       "      <td>3108</td>\n",
       "    </tr>\n",
       "    <tr>\n",
       "      <th>22</th>\n",
       "      <td>Resort Hotel</td>\n",
       "      <td>October</td>\n",
       "      <td>3555</td>\n",
       "    </tr>\n",
       "    <tr>\n",
       "      <th>21</th>\n",
       "      <td>Resort Hotel</td>\n",
       "      <td>November</td>\n",
       "      <td>2437</td>\n",
       "    </tr>\n",
       "    <tr>\n",
       "      <th>14</th>\n",
       "      <td>Resort Hotel</td>\n",
       "      <td>December</td>\n",
       "      <td>2648</td>\n",
       "    </tr>\n",
       "  </tbody>\n",
       "</table>\n",
       "</div>"
      ],
      "text/plain": [
       "           hotel arrival_date_month  demand\n",
       "16  Resort Hotel            January    2193\n",
       "15  Resort Hotel           February    3103\n",
       "19  Resort Hotel              March    3336\n",
       "12  Resort Hotel              April    3609\n",
       "20  Resort Hotel                May    3559\n",
       "18  Resort Hotel               June    3045\n",
       "17  Resort Hotel               July    4573\n",
       "13  Resort Hotel             August    4894\n",
       "23  Resort Hotel          September    3108\n",
       "22  Resort Hotel            October    3555\n",
       "21  Resort Hotel           November    2437\n",
       "14  Resort Hotel           December    2648"
      ]
     },
     "execution_count": 11,
     "metadata": {},
     "output_type": "execute_result"
    }
   ],
   "source": [
    "dm_resort"
   ]
  },
  {
   "cell_type": "code",
   "execution_count": null,
   "id": "022d4775",
   "metadata": {},
   "outputs": [],
   "source": [
    "dy = pd.DataFrame(df.groupby(['hotel','arrival_date_year'])['demand'].count())\n",
    "dy = dy.reset_index()\n",
    "dy.to_csv(\"../data/demand_per_year.csv\")\n",
    "dy"
   ]
  }
 ],
 "metadata": {
  "kernelspec": {
   "display_name": "Python 3",
   "language": "python",
   "name": "python3"
  },
  "language_info": {
   "codemirror_mode": {
    "name": "ipython",
    "version": 3
   },
   "file_extension": ".py",
   "mimetype": "text/x-python",
   "name": "python",
   "nbconvert_exporter": "python",
   "pygments_lexer": "ipython3",
   "version": "3.8.8"
  }
 },
 "nbformat": 4,
 "nbformat_minor": 5
}
