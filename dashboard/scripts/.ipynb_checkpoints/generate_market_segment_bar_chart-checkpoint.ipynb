{
 "cells": [
  {
   "cell_type": "code",
   "execution_count": 1,
   "id": "6c5ceaea",
   "metadata": {},
   "outputs": [],
   "source": [
    "import pandas as pd"
   ]
  },
  {
   "cell_type": "code",
   "execution_count": 10,
   "id": "9f09cbc4",
   "metadata": {},
   "outputs": [
    {
     "data": {
      "text/plain": [
       "hotel         market_segment\n",
       "City Hotel    Online TA         38748\n",
       "              Offline TA/TO     16747\n",
       "              Groups            13975\n",
       "              Direct             6093\n",
       "              Corporate          2986\n",
       "              Complementary       542\n",
       "              Aviation            237\n",
       "              Undefined             2\n",
       "Resort Hotel  Online TA         17729\n",
       "              Offline TA/TO      7472\n",
       "              Direct             6513\n",
       "              Groups             5836\n",
       "              Corporate          2309\n",
       "              Complementary       201\n",
       "Name: market_segment, dtype: int64"
      ]
     },
     "execution_count": 10,
     "metadata": {},
     "output_type": "execute_result"
    }
   ],
   "source": [
    "df_raw = pd.read_csv(\"../data/hotel_bookings.csv\")\n",
    "\n",
    "def generate_market_segment_distribution(df_raw):\n",
    "    \n",
    "    selected_columns = ['hotel', 'market_segment']\n",
    "\n",
    "    df = df_raw[selected_columns]\n",
    "\n",
    "    return df.groupby('hotel')['market_segment'].value_counts()\n",
    "\n",
    "\n",
    "generate_market_segment_distribution(df_raw)"
   ]
  },
  {
   "cell_type": "code",
   "execution_count": null,
   "id": "3541ebfc",
   "metadata": {},
   "outputs": [],
   "source": []
  }
 ],
 "metadata": {
  "kernelspec": {
   "display_name": "Python 3",
   "language": "python",
   "name": "python3"
  },
  "language_info": {
   "codemirror_mode": {
    "name": "ipython",
    "version": 3
   },
   "file_extension": ".py",
   "mimetype": "text/x-python",
   "name": "python",
   "nbconvert_exporter": "python",
   "pygments_lexer": "ipython3",
   "version": "3.8.8"
  }
 },
 "nbformat": 4,
 "nbformat_minor": 5
}
