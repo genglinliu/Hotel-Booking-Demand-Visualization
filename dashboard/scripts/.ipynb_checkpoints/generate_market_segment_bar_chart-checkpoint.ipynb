{
 "cells": [
  {
   "cell_type": "code",
   "execution_count": 1,
   "id": "6c5ceaea",
   "metadata": {},
   "outputs": [],
   "source": [
    "import pandas as pd"
   ]
  },
  {
   "cell_type": "code",
   "execution_count": 2,
   "id": "9f09cbc4",
   "metadata": {},
   "outputs": [
    {
     "data": {
      "text/plain": [
       "hotel         market_segment\n",
       "City Hotel    Online TA         38748\n",
       "              Offline TA/TO     16747\n",
       "              Groups            13975\n",
       "              Direct             6093\n",
       "              Corporate          2986\n",
       "              Complementary       542\n",
       "              Aviation            237\n",
       "              Undefined             2\n",
       "Resort Hotel  Online TA         17729\n",
       "              Offline TA/TO      7472\n",
       "              Direct             6513\n",
       "              Groups             5836\n",
       "              Corporate          2309\n",
       "              Complementary       201\n",
       "Name: market_segment, dtype: int64"
      ]
     },
     "execution_count": 2,
     "metadata": {},
     "output_type": "execute_result"
    }
   ],
   "source": [
    "df_raw = pd.read_csv(\"../data/hotel_bookings.csv\")\n",
    "\n",
    "def generate_market_segment_distribution(df_raw):\n",
    "    \n",
    "    selected_columns = ['hotel', 'market_segment']\n",
    "\n",
    "    df = df_raw[selected_columns]\n",
    "\n",
    "    return df.groupby('hotel')['market_segment'].value_counts()\n",
    "\n",
    "\n",
    "generate_market_segment_distribution(df_raw)"
   ]
  },
  {
   "cell_type": "code",
   "execution_count": 3,
   "id": "3541ebfc",
   "metadata": {},
   "outputs": [
    {
     "data": {
      "text/html": [
       "<div>\n",
       "<style scoped>\n",
       "    .dataframe tbody tr th:only-of-type {\n",
       "        vertical-align: middle;\n",
       "    }\n",
       "\n",
       "    .dataframe tbody tr th {\n",
       "        vertical-align: top;\n",
       "    }\n",
       "\n",
       "    .dataframe thead th {\n",
       "        text-align: right;\n",
       "    }\n",
       "</style>\n",
       "<table border=\"1\" class=\"dataframe\">\n",
       "  <thead>\n",
       "    <tr style=\"text-align: right;\">\n",
       "      <th></th>\n",
       "      <th>hotel</th>\n",
       "      <th>deposit_type</th>\n",
       "      <th>count</th>\n",
       "    </tr>\n",
       "  </thead>\n",
       "  <tbody>\n",
       "    <tr>\n",
       "      <th>0</th>\n",
       "      <td>City Hotel</td>\n",
       "      <td>No Deposit</td>\n",
       "      <td>66442</td>\n",
       "    </tr>\n",
       "    <tr>\n",
       "      <th>1</th>\n",
       "      <td>City Hotel</td>\n",
       "      <td>Non Refund</td>\n",
       "      <td>12868</td>\n",
       "    </tr>\n",
       "    <tr>\n",
       "      <th>2</th>\n",
       "      <td>City Hotel</td>\n",
       "      <td>Refundable</td>\n",
       "      <td>20</td>\n",
       "    </tr>\n",
       "    <tr>\n",
       "      <th>3</th>\n",
       "      <td>Resort Hotel</td>\n",
       "      <td>No Deposit</td>\n",
       "      <td>38199</td>\n",
       "    </tr>\n",
       "    <tr>\n",
       "      <th>4</th>\n",
       "      <td>Resort Hotel</td>\n",
       "      <td>Non Refund</td>\n",
       "      <td>1719</td>\n",
       "    </tr>\n",
       "    <tr>\n",
       "      <th>5</th>\n",
       "      <td>Resort Hotel</td>\n",
       "      <td>Refundable</td>\n",
       "      <td>142</td>\n",
       "    </tr>\n",
       "  </tbody>\n",
       "</table>\n",
       "</div>"
      ],
      "text/plain": [
       "          hotel deposit_type  count\n",
       "0    City Hotel   No Deposit  66442\n",
       "1    City Hotel   Non Refund  12868\n",
       "2    City Hotel   Refundable     20\n",
       "3  Resort Hotel   No Deposit  38199\n",
       "4  Resort Hotel   Non Refund   1719\n",
       "5  Resort Hotel   Refundable    142"
      ]
     },
     "execution_count": 3,
     "metadata": {},
     "output_type": "execute_result"
    }
   ],
   "source": [
    "def generate_deposit_type_distribution(df_raw):\n",
    "    \n",
    "    selected_columns = ['hotel', 'deposit_type']\n",
    "\n",
    "    df = df_raw[selected_columns]\n",
    "\n",
    "    res = df.groupby('hotel')['deposit_type'].value_counts()\n",
    "    \n",
    "    res_df = res.reset_index(name='count')\n",
    "    \n",
    "    return res_df\n",
    "\n",
    "generate_deposit_type_distribution(df_raw)"
   ]
  },
  {
   "cell_type": "code",
   "execution_count": 5,
   "id": "7b652050",
   "metadata": {},
   "outputs": [],
   "source": [
    "# generate_deposit_type_distribution(df_raw).to_csv('../data/deposit_type.csv')"
   ]
  },
  {
   "cell_type": "code",
   "execution_count": null,
   "id": "2f0ff74f",
   "metadata": {},
   "outputs": [],
   "source": []
  }
 ],
 "metadata": {
  "kernelspec": {
   "display_name": "Python 3",
   "language": "python",
   "name": "python3"
  },
  "language_info": {
   "codemirror_mode": {
    "name": "ipython",
    "version": 3
   },
   "file_extension": ".py",
   "mimetype": "text/x-python",
   "name": "python",
   "nbconvert_exporter": "python",
   "pygments_lexer": "ipython3",
   "version": "3.8.8"
  }
 },
 "nbformat": 4,
 "nbformat_minor": 5
}
